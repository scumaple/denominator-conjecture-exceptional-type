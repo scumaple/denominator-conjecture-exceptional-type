{
 "cells": [
  {
   "cell_type": "code",
   "execution_count": 1,
   "metadata": {},
   "outputs": [],
   "source": [
    "#Import libraries\n",
    "import numpy as np\n",
    "import sympy as sp\n",
    "from typing import List\n",
    "from sage.combinat.shuffle import ShuffleProduct\n",
    "import itertools\n",
    "from numpy import matrix \n",
    "from itertools import combinations as comb\n",
    "import multiprocessing \n",
    "from sage.parallel.multiprocessing_sage import Pool\n",
    "from operator import add\n",
    "import operator\n",
    "from sys import getsizeof\n",
    "import random\n",
    "from numpy import array\n",
    "from collections import Counter\n",
    "import functools\n",
    "import copy\n",
    "import scipy \n",
    "import matplotlib.pyplot as plt\n",
    "import networkx as nx\n",
    "from multiprocessing import get_context\n",
    "from sage.combinat.root_system.associahedron import Associahedra\n",
    "from fractions import Fraction\n",
    "from scipy.special import bernoulli, zeta \n",
    "import numbers\n",
    "import decimal\n",
    "import time\n",
    "from sage.symbolic.relation import solve_ineq_fourier\n",
    "import numpy as np\n",
    "from sage.matrix.all import Matrix, identity_matrix\n",
    "from itertools import combinations\n",
    "from multiprocessing import Pool\n",
    "import multiprocessing as mp  \n"
   ]
  },
  {
   "cell_type": "code",
   "execution_count": 2,
   "metadata": {},
   "outputs": [],
   "source": [
    "#check whether matrices X and Y have common columns\n",
    "def intersection_columns_in_matrix(X,Y):  \n",
    "    n=X.ncols()\n",
    "    columns_X = [X.column(i) for i in range(0,n)]\n",
    "    columns_Y = [Y.column(i) for i in range(0,n)]\n",
    "    for col_X in columns_X:\n",
    "        if col_X  in columns_Y:\n",
    "            return 1\n",
    "    return 0"
   ]
  },
  {
   "cell_type": "code",
   "execution_count": 3,
   "metadata": {
    "scrolled": true
   },
   "outputs": [],
   "source": [
    "#for the sequence of matrices r, solving the system linear inequality associated with r[i] and r[j] by MILP\n",
    "\n",
    "def solve_linear_program(lp):\n",
    "            try:\n",
    "                lp.solve()\n",
    "                return 1\n",
    "            except Exception as e:\n",
    "                return 0\n",
    "\n",
    "def solve_inequalities_triple(r,i,j,l):\n",
    "    \n",
    "    E = identity_matrix(8)\n",
    "    W=r[j]^(-1)*r[i]\n",
    "    b=E[:,l]\n",
    "    \n",
    "    lp = MixedIntegerLinearProgram(maximization=False)\n",
    "    x = lp.new_variable(integer=True, nonnegative=True)\n",
    "    lp.set_objective(x[0]+x[1]+x[2]+x[3]+x[4]+x[5]+x[6]+x[7])\n",
    "    lp.add_constraint(x[l]>=1)\n",
    "    for k in range(0,8):\n",
    "        lp.add_constraint(W[k,0]*x[0]+W[k,1]*x[1]+W[k,2]*x[2]+W[k,3]*x[3]+W[k,4]*x[4]+W[k,5]*x[5]+W[k,6]*x[6]+W[k,7]*x[7]>=0)\n",
    "        \n",
    "    return solve_linear_program(lp)\n",
    "         \n",
    "def solve_inequalities(r,i,j):\n",
    "     if intersection_columns_in_matrix(r[i],r[j])==1:\n",
    "        return 0\n",
    "     else:\n",
    "        for l in range(0,8):\n",
    "            if solve_inequalities_triple(r,i,j,l)==1:\n",
    "                return 1\n",
    "        return 0\n",
    "    \n",
    "    \n",
    "    \n",
    "    \n",
    "def check_pair(r,i,j):\n",
    "    if solve_inequalities(r, i, j) == 1:\n",
    "        return [i,j]\n",
    "    return []\n",
    "\n",
    "\n",
    "\n"
   ]
  },
  {
   "cell_type": "code",
   "execution_count": 6,
   "metadata": {},
   "outputs": [
    {
     "data": {
      "text/plain": [
       "25080"
      ]
     },
     "execution_count": 6,
     "metadata": {},
     "output_type": "execute_result"
    }
   ],
   "source": [
    "t = load('E8D_matrices389')\n",
    "len(t)\n"
   ]
  },
  {
   "cell_type": "code",
   "execution_count": 7,
   "metadata": {},
   "outputs": [
    {
     "name": "stdout",
     "output_type": "stream",
     "text": [
      "Invertible!\n"
     ]
    }
   ],
   "source": [
    "#checking the determinant of matrices t[i]\n",
    "for i in range(0,len(t)):\n",
    "    if t[i].determinant()==0:\n",
    "        print(i)\n",
    "        break\n",
    "else:\n",
    "    print('Invertible!')"
   ]
  },
  {
   "cell_type": "code",
   "execution_count": 8,
   "metadata": {},
   "outputs": [
    {
     "data": {
      "text/plain": [
       "8777"
      ]
     },
     "execution_count": 8,
     "metadata": {},
     "output_type": "execute_result"
    }
   ],
   "source": [
    "#remove the matrix which has a common column with the negative identity\n",
    "DList=[]\n",
    "for i in range(0,len(t)):\n",
    "     if intersection_columns_in_matrix(-identity_matrix(8),t[i])== 0:\n",
    "        DList.append(t[i])\n",
    "len(DList)"
   ]
  },
  {
   "cell_type": "code",
   "execution_count": 9,
   "metadata": {},
   "outputs": [
    {
     "name": "stdout",
     "output_type": "stream",
     "text": [
      "No pair exists!\n",
      "The time taken to execute the program is 16149.892082452774 seconds.\n"
     ]
    }
   ],
   "source": [
    "if __name__ == '__main__':\n",
    "    start_time = time.time()   \n",
    "    N_CPU = multiprocessing.cpu_count() # Use the number of CPU cores by default\n",
    "\n",
    "    with mp.Pool(processes=N_CPU) as pool:\n",
    "        results = pool.starmap(check_pair, [(DList, i, j) for i in range(0,len(DList)) for j in range(i+1, len(DList))])\n",
    "        #print(results)\n",
    "        for result in results:\n",
    "            if result:\n",
    "                print(\"A pair exists：\", result)\n",
    "                break\n",
    "        else:\n",
    "            print(\"No pair exists!\")\n",
    "    end_time = time.time()\n",
    "    elapsed_time = end_time - start_time\n",
    "    print(f\"The time taken to execute the program is {elapsed_time} seconds.\")"
   ]
  },
  {
   "cell_type": "code",
   "execution_count": null,
   "metadata": {},
   "outputs": [],
   "source": [
    "\n",
    "            \n",
    "           \n"
   ]
  },
  {
   "cell_type": "code",
   "execution_count": null,
   "metadata": {},
   "outputs": [],
   "source": []
  },
  {
   "cell_type": "code",
   "execution_count": null,
   "metadata": {},
   "outputs": [],
   "source": []
  },
  {
   "cell_type": "code",
   "execution_count": null,
   "metadata": {},
   "outputs": [],
   "source": []
  },
  {
   "cell_type": "code",
   "execution_count": 13,
   "metadata": {},
   "outputs": [],
   "source": []
  },
  {
   "cell_type": "code",
   "execution_count": 2,
   "metadata": {},
   "outputs": [],
   "source": []
  },
  {
   "cell_type": "code",
   "execution_count": 3,
   "metadata": {},
   "outputs": [],
   "source": []
  },
  {
   "cell_type": "code",
   "execution_count": 4,
   "metadata": {},
   "outputs": [],
   "source": []
  },
  {
   "cell_type": "code",
   "execution_count": 5,
   "metadata": {},
   "outputs": [],
   "source": []
  },
  {
   "cell_type": "code",
   "execution_count": 6,
   "metadata": {},
   "outputs": [],
   "source": []
  },
  {
   "cell_type": "code",
   "execution_count": 1,
   "metadata": {},
   "outputs": [],
   "source": [
    "\n"
   ]
  },
  {
   "cell_type": "code",
   "execution_count": 2,
   "metadata": {},
   "outputs": [],
   "source": []
  },
  {
   "cell_type": "code",
   "execution_count": null,
   "metadata": {},
   "outputs": [],
   "source": []
  },
  {
   "cell_type": "code",
   "execution_count": null,
   "metadata": {},
   "outputs": [],
   "source": []
  },
  {
   "cell_type": "code",
   "execution_count": null,
   "metadata": {},
   "outputs": [],
   "source": [
    "\n"
   ]
  },
  {
   "cell_type": "code",
   "execution_count": null,
   "metadata": {},
   "outputs": [],
   "source": [
    "\n"
   ]
  },
  {
   "cell_type": "code",
   "execution_count": null,
   "metadata": {},
   "outputs": [],
   "source": []
  },
  {
   "cell_type": "code",
   "execution_count": null,
   "metadata": {},
   "outputs": [],
   "source": []
  },
  {
   "cell_type": "code",
   "execution_count": null,
   "metadata": {},
   "outputs": [],
   "source": []
  },
  {
   "cell_type": "code",
   "execution_count": null,
   "metadata": {},
   "outputs": [],
   "source": []
  },
  {
   "cell_type": "code",
   "execution_count": null,
   "metadata": {},
   "outputs": [],
   "source": []
  },
  {
   "cell_type": "code",
   "execution_count": null,
   "metadata": {},
   "outputs": [],
   "source": [
    "\n"
   ]
  },
  {
   "cell_type": "code",
   "execution_count": null,
   "metadata": {},
   "outputs": [],
   "source": []
  },
  {
   "cell_type": "code",
   "execution_count": 17,
   "metadata": {},
   "outputs": [],
   "source": []
  },
  {
   "cell_type": "code",
   "execution_count": null,
   "metadata": {},
   "outputs": [],
   "source": []
  },
  {
   "cell_type": "code",
   "execution_count": null,
   "metadata": {},
   "outputs": [],
   "source": []
  },
  {
   "cell_type": "code",
   "execution_count": null,
   "metadata": {},
   "outputs": [],
   "source": []
  },
  {
   "cell_type": "code",
   "execution_count": null,
   "metadata": {},
   "outputs": [],
   "source": []
  },
  {
   "cell_type": "code",
   "execution_count": null,
   "metadata": {},
   "outputs": [],
   "source": []
  },
  {
   "cell_type": "code",
   "execution_count": null,
   "metadata": {},
   "outputs": [],
   "source": []
  },
  {
   "cell_type": "code",
   "execution_count": null,
   "metadata": {},
   "outputs": [],
   "source": []
  },
  {
   "cell_type": "code",
   "execution_count": null,
   "metadata": {},
   "outputs": [],
   "source": []
  },
  {
   "cell_type": "code",
   "execution_count": null,
   "metadata": {},
   "outputs": [],
   "source": []
  },
  {
   "cell_type": "code",
   "execution_count": null,
   "metadata": {},
   "outputs": [],
   "source": []
  },
  {
   "cell_type": "code",
   "execution_count": null,
   "metadata": {},
   "outputs": [],
   "source": []
  },
  {
   "cell_type": "code",
   "execution_count": null,
   "metadata": {},
   "outputs": [],
   "source": []
  }
 ],
 "metadata": {
  "kernelspec": {
   "display_name": "SageMath 9.3",
   "language": "sage",
   "name": "sagemath"
  },
  "language_info": {
   "codemirror_mode": {
    "name": "ipython",
    "version": 3
   },
   "file_extension": ".py",
   "mimetype": "text/x-python",
   "name": "python",
   "nbconvert_exporter": "python",
   "pygments_lexer": "ipython3",
   "version": "3.7.10"
  }
 },
 "nbformat": 4,
 "nbformat_minor": 4
}
