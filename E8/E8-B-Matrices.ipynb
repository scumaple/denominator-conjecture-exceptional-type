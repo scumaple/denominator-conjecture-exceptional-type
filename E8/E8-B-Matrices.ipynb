{
 "cells": [
  {
   "cell_type": "code",
   "execution_count": 5,
   "metadata": {},
   "outputs": [],
   "source": [
    "#Import libraries\n",
    "import numpy as np\n",
    "import sympy as sp\n",
    "from typing import List\n",
    "from sage.combinat.shuffle import ShuffleProduct\n",
    "import itertools\n",
    "from numpy import matrix \n",
    "from itertools import combinations as comb\n",
    "import multiprocessing \n",
    "#from sage.parallel.multiprocessing_sage import Pool\n",
    "from operator import add\n",
    "import operator\n",
    "from sys import getsizeof\n",
    "import random\n",
    "from numpy import array\n",
    "from collections import Counter\n",
    "import functools\n",
    "import copy\n",
    "import scipy \n",
    "import matplotlib.pyplot as plt\n",
    "import networkx as nx\n",
    "from multiprocessing import get_context\n",
    "from sage.combinat.root_system.associahedron import Associahedra\n",
    "from fractions import Fraction\n",
    "from scipy.special import bernoulli, zeta \n",
    "import numbers\n",
    "import decimal\n",
    "import time"
   ]
  },
  {
   "cell_type": "code",
   "execution_count": 6,
   "metadata": {},
   "outputs": [
    {
     "name": "stdout",
     "output_type": "stream",
     "text": [
      "1446\n",
      "16\n"
     ]
    },
    {
     "data": {
      "text/plain": [
       "390"
      ]
     },
     "execution_count": 6,
     "metadata": {},
     "output_type": "execute_result"
    }
   ],
   "source": [
    "#generate all non-acyclic exchange matrix  of type E_8 up to sink-source equivalence\n",
    "Q = ClusterQuiver(['E',8])\n",
    "T = Q.mutation_class()\n",
    "S=[]\n",
    "for i in range(0,len(T)):\n",
    "    A=T[i]\n",
    "    if A.is_acyclic()==False:\n",
    "        S.append(A)\n",
    "\n",
    "\n",
    "print(len(S))\n",
    "X=[]\n",
    "X.append(S[0])\n",
    "\n",
    "\n",
    "W=S[0].mutation_class(sink_source=True)\n",
    "\n",
    "\n",
    "print(len(W))\n",
    "\n",
    "for i in range(1,len(S)):\n",
    "    if (S[i] in W) == False:\n",
    "        X.append(S[i])\n",
    "        V=S[i].mutation_class(sink_source=True)\n",
    "        for j in range(0,len(V)):\n",
    "            W.append(V[j])  \n",
    "            #print(len(W))\n",
    "B=[]\n",
    "for i in range(0, len(X)):\n",
    "    C=X[i].b_matrix()\n",
    "    B.append(C)\n",
    "len(B)"
   ]
  },
  {
   "cell_type": "code",
   "execution_count": null,
   "metadata": {},
   "outputs": [],
   "source": [
    "save(B,'E8Bmatrix.sobj')"
   ]
  },
  {
   "cell_type": "code",
   "execution_count": 45,
   "metadata": {},
   "outputs": [],
   "source": []
  },
  {
   "cell_type": "code",
   "execution_count": null,
   "metadata": {},
   "outputs": [],
   "source": []
  },
  {
   "cell_type": "code",
   "execution_count": null,
   "metadata": {},
   "outputs": [],
   "source": []
  }
 ],
 "metadata": {
  "kernelspec": {
   "display_name": "SageMath 10.4",
   "language": "sage",
   "name": "sagemath-10.4"
  },
  "language_info": {
   "codemirror_mode": {
    "name": "ipython",
    "version": 3
   },
   "file_extension": ".py",
   "mimetype": "text/x-python",
   "name": "python",
   "nbconvert_exporter": "python",
   "pygments_lexer": "ipython3",
   "version": "3.12.4"
  }
 },
 "nbformat": 4,
 "nbformat_minor": 4
}
